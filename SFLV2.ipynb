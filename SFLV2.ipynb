{
 "cells": [
  {
   "cell_type": "code",
   "execution_count": 1,
   "id": "211293ef",
   "metadata": {
    "execution": {
     "iopub.execute_input": "2024-04-25T17:09:27.136593Z",
     "iopub.status.busy": "2024-04-25T17:09:27.136361Z",
     "iopub.status.idle": "2024-04-25T17:09:27.140118Z",
     "shell.execute_reply": "2024-04-25T17:09:27.139505Z"
    },
    "executionInfo": {
     "elapsed": 4,
     "status": "ok",
     "timestamp": 1714056665765,
     "user": {
      "displayName": "Vedant Brahmbhatt",
      "userId": "10731296993634284469"
     },
     "user_tz": -330
    },
    "id": "4kT41C07vIdE",
    "papermill": {
     "duration": 0.012214,
     "end_time": "2024-04-25T17:09:27.141958",
     "exception": false,
     "start_time": "2024-04-25T17:09:27.129744",
     "status": "completed"
    },
    "tags": []
   },
   "outputs": [],
   "source": [
    "#=============================================================================\n",
    "# SplitfedV2 (SFLV2) learning: ResNet18 on HAM10000\n",
    "# HAM10000 dataset: Tschandl, P.: The HAM10000 dataset, a large collection of multi-source dermatoscopic images of common pigmented skin lesions (2018), doi:10.7910/DVN/DBW86T\n",
    "\n",
    "# We have three versions of our implementations\n",
    "# Version1: without using socket and no DP+PixelDP\n",
    "# Version2: with using socket but no DP+PixelDP\n",
    "# Version3: without using socket but with DP+PixelDP\n",
    "\n",
    "# This program is Version1: Single program simulation\n",
    "# =============================================================================="
   ]
  },
  {
   "cell_type": "code",
   "execution_count": 2,
   "id": "ed138335",
   "metadata": {
    "execution": {
     "iopub.execute_input": "2024-04-25T17:09:27.153321Z",
     "iopub.status.busy": "2024-04-25T17:09:27.153106Z",
     "iopub.status.idle": "2024-04-25T17:09:56.779040Z",
     "shell.execute_reply": "2024-04-25T17:09:56.778003Z"
    },
    "executionInfo": {
     "elapsed": 18432,
     "status": "ok",
     "timestamp": 1714056687439,
     "user": {
      "displayName": "Vedant Brahmbhatt",
      "userId": "10731296993634284469"
     },
     "user_tz": -330
    },
    "id": "DXltPPGmvPai",
    "papermill": {
     "duration": 29.634616,
     "end_time": "2024-04-25T17:09:56.781186",
     "exception": false,
     "start_time": "2024-04-25T17:09:27.146570",
     "status": "completed"
    },
    "tags": []
   },
   "outputs": [
    {
     "name": "stderr",
     "output_type": "stream",
     "text": [
      "/usr/local/lib/python3.10/site-packages/tqdm/auto.py:21: TqdmWarning: IProgress not found. Please update jupyter and ipywidgets. See https://ipywidgets.readthedocs.io/en/stable/user_install.html\n",
      "  from .autonotebook import tqdm as notebook_tqdm\n"
     ]
    }
   ],
   "source": [
    "import torch\n",
    "from torch import nn\n",
    "from torchvision import transforms\n",
    "from torch.utils.data import DataLoader, Dataset\n",
    "import torch.nn.functional as F\n",
    "import math\n",
    "import os.path\n",
    "import pandas as pd\n",
    "from sklearn.model_selection import train_test_split\n",
    "from PIL import Image\n",
    "from glob import glob\n",
    "from pandas import DataFrame\n",
    "import random\n",
    "import numpy as np\n",
    "import os\n",
    "\n",
    "\n",
    "import matplotlib\n",
    "matplotlib.use('Agg')\n",
    "import matplotlib.pyplot as plt\n",
    "import copy"
   ]
  },
  {
   "cell_type": "code",
   "execution_count": 3,
   "id": "6d879fd3",
   "metadata": {
    "execution": {
     "iopub.execute_input": "2024-04-25T17:09:56.792672Z",
     "iopub.status.busy": "2024-04-25T17:09:56.792224Z",
     "iopub.status.idle": "2024-04-25T17:09:56.803236Z",
     "shell.execute_reply": "2024-04-25T17:09:56.802399Z"
    },
    "executionInfo": {
     "elapsed": 2,
     "status": "ok",
     "timestamp": 1714056687439,
     "user": {
      "displayName": "Vedant Brahmbhatt",
      "userId": "10731296993634284469"
     },
     "user_tz": -330
    },
    "id": "uZLzZk9uvSKE",
    "papermill": {
     "duration": 0.018684,
     "end_time": "2024-04-25T17:09:56.805010",
     "exception": false,
     "start_time": "2024-04-25T17:09:56.786326",
     "status": "completed"
    },
    "tags": []
   },
   "outputs": [],
   "source": [
    "SEED = 1234\n",
    "random.seed(SEED)\n",
    "np.random.seed(SEED)\n",
    "torch.manual_seed(SEED)\n",
    "torch.cuda.manual_seed(SEED)\n",
    "if torch.cuda.is_available():\n",
    "    torch.backends.cudnn.deterministic = True\n",
    "    print(torch.cuda.get_device_name(0))\n"
   ]
  },
  {
   "cell_type": "code",
   "execution_count": 4,
   "id": "bf6ea5e3",
   "metadata": {
    "execution": {
     "iopub.execute_input": "2024-04-25T17:09:56.815365Z",
     "iopub.status.busy": "2024-04-25T17:09:56.815076Z",
     "iopub.status.idle": "2024-04-25T17:09:56.820146Z",
     "shell.execute_reply": "2024-04-25T17:09:56.819384Z"
    },
    "executionInfo": {
     "elapsed": 552,
     "status": "ok",
     "timestamp": 1714056691342,
     "user": {
      "displayName": "Vedant Brahmbhatt",
      "userId": "10731296993634284469"
     },
     "user_tz": -330
    },
    "id": "VJXyEX-KvUfI",
    "outputId": "e3f5cb59-81f6-4557-e579-c475e51d18e9",
    "papermill": {
     "duration": 0.012387,
     "end_time": "2024-04-25T17:09:56.821819",
     "exception": false,
     "start_time": "2024-04-25T17:09:56.809432",
     "status": "completed"
    },
    "tags": []
   },
   "outputs": [
    {
     "name": "stdout",
     "output_type": "stream",
     "text": [
      "---------SFLV2 ResNet18 on HAM10000----------\n"
     ]
    }
   ],
   "source": [
    "#===================================================================\n",
    "program = \"SFLV2 ResNet18 on HAM10000\"\n",
    "print(f\"---------{program}----------\")              # this is to identify the program in the slurm outputs files\n",
    "\n",
    "device = torch.device('cuda' if torch.cuda.is_available() else 'cpu')\n",
    "\n",
    "# To print in color -------test/train of the client side\n",
    "def prRed(skk): print(\"\\033[91m {}\\033[00m\" .format(skk))\n",
    "def prGreen(skk): print(\"\\033[92m {}\\033[00m\" .format(skk))\n"
   ]
  },
  {
   "cell_type": "code",
   "execution_count": 5,
   "id": "c9487bee",
   "metadata": {
    "execution": {
     "iopub.execute_input": "2024-04-25T17:09:56.832560Z",
     "iopub.status.busy": "2024-04-25T17:09:56.832305Z",
     "iopub.status.idle": "2024-04-25T17:09:56.836097Z",
     "shell.execute_reply": "2024-04-25T17:09:56.835363Z"
    },
    "executionInfo": {
     "elapsed": 2,
     "status": "ok",
     "timestamp": 1714056706557,
     "user": {
      "displayName": "Vedant Brahmbhatt",
      "userId": "10731296993634284469"
     },
     "user_tz": -330
    },
    "id": "G6dD5px1vXis",
    "papermill": {
     "duration": 0.010996,
     "end_time": "2024-04-25T17:09:56.837720",
     "exception": false,
     "start_time": "2024-04-25T17:09:56.826724",
     "status": "completed"
    },
    "tags": []
   },
   "outputs": [],
   "source": [
    "#===================================================================\n",
    "# No. of users\n",
    "num_users = 5\n",
    "epochs = 10\n",
    "frac = 1        # participation of clients; if 1 then 100% clients participate in SFLV2\n",
    "lr = 0.0001"
   ]
  },
  {
   "cell_type": "code",
   "execution_count": 6,
   "id": "2eea9e18",
   "metadata": {
    "execution": {
     "iopub.execute_input": "2024-04-25T17:09:56.848692Z",
     "iopub.status.busy": "2024-04-25T17:09:56.848411Z",
     "iopub.status.idle": "2024-04-25T17:09:56.864665Z",
     "shell.execute_reply": "2024-04-25T17:09:56.863814Z"
    },
    "executionInfo": {
     "elapsed": 693,
     "status": "ok",
     "timestamp": 1714056721544,
     "user": {
      "displayName": "Vedant Brahmbhatt",
      "userId": "10731296993634284469"
     },
     "user_tz": -330
    },
    "id": "dwes-W6KvbLh",
    "outputId": "348120da-2299-41ac-ea01-a2ad4ceaa47b",
    "papermill": {
     "duration": 0.024101,
     "end_time": "2024-04-25T17:09:56.866351",
     "exception": false,
     "start_time": "2024-04-25T17:09:56.842250",
     "status": "completed"
    },
    "tags": []
   },
   "outputs": [
    {
     "name": "stdout",
     "output_type": "stream",
     "text": [
      "ResNet18_client_side(\n",
      "  (layer1): Sequential(\n",
      "    (0): Conv2d(3, 64, kernel_size=(7, 7), stride=(2, 2), padding=(3, 3), bias=False)\n",
      "    (1): BatchNorm2d(64, eps=1e-05, momentum=0.1, affine=True, track_running_stats=True)\n",
      "    (2): ReLU(inplace=True)\n",
      "    (3): MaxPool2d(kernel_size=3, stride=2, padding=1, dilation=1, ceil_mode=False)\n",
      "  )\n",
      "  (layer2): Sequential(\n",
      "    (0): Conv2d(64, 64, kernel_size=(3, 3), stride=(1, 1), padding=(1, 1), bias=False)\n",
      "    (1): BatchNorm2d(64, eps=1e-05, momentum=0.1, affine=True, track_running_stats=True)\n",
      "    (2): ReLU(inplace=True)\n",
      "    (3): Conv2d(64, 64, kernel_size=(3, 3), stride=(1, 1), padding=(1, 1))\n",
      "    (4): BatchNorm2d(64, eps=1e-05, momentum=0.1, affine=True, track_running_stats=True)\n",
      "  )\n",
      ")\n"
     ]
    }
   ],
   "source": [
    "#=====================================================================================================\n",
    "#                           Client-side Model definition\n",
    "#=====================================================================================================\n",
    "# Model at client side\n",
    "class ResNet18_client_side(nn.Module):\n",
    "    def __init__(self):\n",
    "        super(ResNet18_client_side, self).__init__()\n",
    "        self.layer1 = nn.Sequential (\n",
    "                nn.Conv2d(3, 64, kernel_size = 7, stride = 2, padding = 3, bias = False),\n",
    "                nn.BatchNorm2d(64),\n",
    "                nn.ReLU (inplace = True),\n",
    "                nn.MaxPool2d(kernel_size = 3, stride = 2, padding =1),\n",
    "            )\n",
    "        self.layer2 = nn.Sequential  (\n",
    "                nn.Conv2d(64, 64, kernel_size = 3, stride = 1, padding = 1, bias = False),\n",
    "                nn.BatchNorm2d(64),\n",
    "                nn.ReLU (inplace = True),\n",
    "                nn.Conv2d(64, 64, kernel_size = 3, stride = 1, padding = 1),\n",
    "                nn.BatchNorm2d(64),\n",
    "            )\n",
    "\n",
    "        for m in self.modules():\n",
    "            if isinstance(m, nn.Conv2d):\n",
    "                n = m.kernel_size[0] * m.kernel_size[1] * m.out_channels\n",
    "                m.weight.data.normal_(0, math.sqrt(2. / n))\n",
    "            elif isinstance(m, nn.BatchNorm2d):\n",
    "                m.weight.data.fill_(1)\n",
    "                m.bias.data.zero_()\n",
    "\n",
    "\n",
    "    def forward(self, x):\n",
    "        resudial1 = F.relu(self.layer1(x))\n",
    "        out1 = self.layer2(resudial1)\n",
    "        out1 = out1 + resudial1 # adding the resudial inputs -- downsampling not required in this layer\n",
    "        resudial2 = F.relu(out1)\n",
    "        return resudial2\n",
    "\n",
    "\n",
    "net_glob_client = ResNet18_client_side()\n",
    "if torch.cuda.device_count() > 1:\n",
    "    print(\"We use\",torch.cuda.device_count(), \"GPUs\")\n",
    "    net_glob_client = nn.DataParallel(net_glob_client)   # to use the multiple GPUs; later we can change this to CPUs only\n",
    "\n",
    "net_glob_client.to(device)\n",
    "print(net_glob_client)"
   ]
  },
  {
   "cell_type": "code",
   "execution_count": 7,
   "id": "31295fec",
   "metadata": {
    "execution": {
     "iopub.execute_input": "2024-04-25T17:09:56.877251Z",
     "iopub.status.busy": "2024-04-25T17:09:56.876989Z",
     "iopub.status.idle": "2024-04-25T17:09:57.268479Z",
     "shell.execute_reply": "2024-04-25T17:09:57.267585Z"
    },
    "executionInfo": {
     "elapsed": 700,
     "status": "ok",
     "timestamp": 1714056737982,
     "user": {
      "displayName": "Vedant Brahmbhatt",
      "userId": "10731296993634284469"
     },
     "user_tz": -330
    },
    "id": "GvQa60duvexb",
    "outputId": "4e0bcad1-4806-4c2b-db65-b16e0cfa709d",
    "papermill": {
     "duration": 0.399388,
     "end_time": "2024-04-25T17:09:57.270341",
     "exception": false,
     "start_time": "2024-04-25T17:09:56.870953",
     "status": "completed"
    },
    "tags": []
   },
   "outputs": [
    {
     "name": "stdout",
     "output_type": "stream",
     "text": [
      "ResNet18_server_side(\n",
      "  (layer3): Sequential(\n",
      "    (0): Conv2d(64, 64, kernel_size=(3, 3), stride=(1, 1), padding=(1, 1))\n",
      "    (1): BatchNorm2d(64, eps=1e-05, momentum=0.1, affine=True, track_running_stats=True)\n",
      "    (2): ReLU(inplace=True)\n",
      "    (3): Conv2d(64, 64, kernel_size=(3, 3), stride=(1, 1), padding=(1, 1))\n",
      "    (4): BatchNorm2d(64, eps=1e-05, momentum=0.1, affine=True, track_running_stats=True)\n",
      "  )\n",
      "  (layer4): Sequential(\n",
      "    (0): Baseblock(\n",
      "      (conv1): Conv2d(64, 128, kernel_size=(3, 3), stride=(2, 2), padding=(1, 1))\n",
      "      (bn1): BatchNorm2d(128, eps=1e-05, momentum=0.1, affine=True, track_running_stats=True)\n",
      "      (conv2): Conv2d(128, 128, kernel_size=(3, 3), stride=(1, 1), padding=(1, 1))\n",
      "      (bn2): BatchNorm2d(128, eps=1e-05, momentum=0.1, affine=True, track_running_stats=True)\n",
      "      (dim_change): Sequential(\n",
      "        (0): Conv2d(64, 128, kernel_size=(1, 1), stride=(2, 2))\n",
      "        (1): BatchNorm2d(128, eps=1e-05, momentum=0.1, affine=True, track_running_stats=True)\n",
      "      )\n",
      "    )\n",
      "    (1): Baseblock(\n",
      "      (conv1): Conv2d(128, 128, kernel_size=(3, 3), stride=(1, 1), padding=(1, 1))\n",
      "      (bn1): BatchNorm2d(128, eps=1e-05, momentum=0.1, affine=True, track_running_stats=True)\n",
      "      (conv2): Conv2d(128, 128, kernel_size=(3, 3), stride=(1, 1), padding=(1, 1))\n",
      "      (bn2): BatchNorm2d(128, eps=1e-05, momentum=0.1, affine=True, track_running_stats=True)\n",
      "    )\n",
      "  )\n",
      "  (layer5): Sequential(\n",
      "    (0): Baseblock(\n",
      "      (conv1): Conv2d(128, 256, kernel_size=(3, 3), stride=(2, 2), padding=(1, 1))\n",
      "      (bn1): BatchNorm2d(256, eps=1e-05, momentum=0.1, affine=True, track_running_stats=True)\n",
      "      (conv2): Conv2d(256, 256, kernel_size=(3, 3), stride=(1, 1), padding=(1, 1))\n",
      "      (bn2): BatchNorm2d(256, eps=1e-05, momentum=0.1, affine=True, track_running_stats=True)\n",
      "      (dim_change): Sequential(\n",
      "        (0): Conv2d(128, 256, kernel_size=(1, 1), stride=(2, 2))\n",
      "        (1): BatchNorm2d(256, eps=1e-05, momentum=0.1, affine=True, track_running_stats=True)\n",
      "      )\n",
      "    )\n",
      "    (1): Baseblock(\n",
      "      (conv1): Conv2d(256, 256, kernel_size=(3, 3), stride=(1, 1), padding=(1, 1))\n",
      "      (bn1): BatchNorm2d(256, eps=1e-05, momentum=0.1, affine=True, track_running_stats=True)\n",
      "      (conv2): Conv2d(256, 256, kernel_size=(3, 3), stride=(1, 1), padding=(1, 1))\n",
      "      (bn2): BatchNorm2d(256, eps=1e-05, momentum=0.1, affine=True, track_running_stats=True)\n",
      "    )\n",
      "  )\n",
      "  (layer6): Sequential(\n",
      "    (0): Baseblock(\n",
      "      (conv1): Conv2d(256, 512, kernel_size=(3, 3), stride=(2, 2), padding=(1, 1))\n",
      "      (bn1): BatchNorm2d(512, eps=1e-05, momentum=0.1, affine=True, track_running_stats=True)\n",
      "      (conv2): Conv2d(512, 512, kernel_size=(3, 3), stride=(1, 1), padding=(1, 1))\n",
      "      (bn2): BatchNorm2d(512, eps=1e-05, momentum=0.1, affine=True, track_running_stats=True)\n",
      "      (dim_change): Sequential(\n",
      "        (0): Conv2d(256, 512, kernel_size=(1, 1), stride=(2, 2))\n",
      "        (1): BatchNorm2d(512, eps=1e-05, momentum=0.1, affine=True, track_running_stats=True)\n",
      "      )\n",
      "    )\n",
      "    (1): Baseblock(\n",
      "      (conv1): Conv2d(512, 512, kernel_size=(3, 3), stride=(1, 1), padding=(1, 1))\n",
      "      (bn1): BatchNorm2d(512, eps=1e-05, momentum=0.1, affine=True, track_running_stats=True)\n",
      "      (conv2): Conv2d(512, 512, kernel_size=(3, 3), stride=(1, 1), padding=(1, 1))\n",
      "      (bn2): BatchNorm2d(512, eps=1e-05, momentum=0.1, affine=True, track_running_stats=True)\n",
      "    )\n",
      "  )\n",
      "  (averagePool): AvgPool2d(kernel_size=2, stride=1, padding=0)\n",
      "  (fc): Linear(in_features=512, out_features=7, bias=True)\n",
      ")\n"
     ]
    }
   ],
   "source": [
    "#=====================================================================================================\n",
    "#                           Server-side Model definition\n",
    "#=====================================================================================================\n",
    "# Model at server side\n",
    "class Baseblock(nn.Module):\n",
    "    expansion = 1\n",
    "    def __init__(self, input_planes, planes, stride = 1, dim_change = None):\n",
    "        super(Baseblock, self).__init__()\n",
    "        self.conv1 = nn.Conv2d(input_planes, planes, stride =  stride, kernel_size = 3, padding = 1)\n",
    "        self.bn1 = nn.BatchNorm2d(planes)\n",
    "        self.conv2 = nn.Conv2d(planes, planes, stride = 1, kernel_size = 3, padding = 1)\n",
    "        self.bn2 = nn.BatchNorm2d(planes)\n",
    "        self.dim_change = dim_change\n",
    "\n",
    "    def forward(self, x):\n",
    "        res = x\n",
    "        output = F.relu(self.bn1(self.conv1(x)))\n",
    "        output = self.bn2(self.conv2(output))\n",
    "\n",
    "        if self.dim_change is not None:\n",
    "            res =self.dim_change(res)\n",
    "\n",
    "        output += res\n",
    "        output = F.relu(output)\n",
    "\n",
    "        return output\n",
    "\n",
    "\n",
    "class ResNet18_server_side(nn.Module):\n",
    "    def __init__(self, block, num_layers, classes):\n",
    "        super(ResNet18_server_side, self).__init__()\n",
    "        self.input_planes = 64\n",
    "        self.layer3 = nn.Sequential (\n",
    "                nn.Conv2d(64, 64, kernel_size = 3, stride = 1, padding = 1),\n",
    "                nn.BatchNorm2d(64),\n",
    "                nn.ReLU (inplace = True),\n",
    "                nn.Conv2d(64, 64, kernel_size = 3, stride = 1, padding = 1),\n",
    "                nn.BatchNorm2d(64),\n",
    "                )\n",
    "\n",
    "        self.layer4 = self._layer(block, 128, num_layers[0], stride = 2)\n",
    "        self.layer5 = self._layer(block, 256, num_layers[1], stride = 2)\n",
    "        self.layer6 = self._layer(block, 512, num_layers[2], stride = 2)\n",
    "#         self. averagePool = nn.AvgPool2d(kernel_size = 7, stride = 1)\n",
    "        self.averagePool = nn.AvgPool2d(kernel_size=2, stride=1)\n",
    "        self.fc = nn.Linear(512 * block.expansion, classes)\n",
    "\n",
    "        for m in self.modules():\n",
    "            if isinstance(m, nn.Conv2d):\n",
    "                n = m.kernel_size[0] * m.kernel_size[1] * m.out_channels\n",
    "                m.weight.data.normal_(0, math.sqrt(2. / n))\n",
    "            elif isinstance(m, nn.BatchNorm2d):\n",
    "                m.weight.data.fill_(1)\n",
    "                m.bias.data.zero_()\n",
    "\n",
    "\n",
    "    def _layer(self, block, planes, num_layers, stride = 2):\n",
    "        dim_change = None\n",
    "        if stride != 1 or planes != self.input_planes * block.expansion:\n",
    "            dim_change = nn.Sequential(nn.Conv2d(self.input_planes, planes*block.expansion, kernel_size = 1, stride = stride),\n",
    "                                       nn.BatchNorm2d(planes*block.expansion))\n",
    "        netLayers = []\n",
    "        netLayers.append(block(self.input_planes, planes, stride = stride, dim_change = dim_change))\n",
    "        self.input_planes = planes * block.expansion\n",
    "        for i in range(1, num_layers):\n",
    "            netLayers.append(block(self.input_planes, planes))\n",
    "            self.input_planes = planes * block.expansion\n",
    "\n",
    "        return nn.Sequential(*netLayers)\n",
    "\n",
    "\n",
    "    def forward(self, x):\n",
    "        out2 = self.layer3(x)\n",
    "        out2 = out2 + x          # adding the resudial inputs -- downsampling not required in this layer\n",
    "        x3 = F.relu(out2)\n",
    "\n",
    "        x4 = self. layer4(x3)\n",
    "        x5 = self.layer5(x4)\n",
    "        x6 = self.layer6(x5)\n",
    "\n",
    "#         x7 = F.avg_pool2d(x6, 7)\n",
    "#         x8 = x7.view(x7.size(0), -1)\n",
    "#         y_hat =self.fc(x8)\n",
    "        x7 = self.averagePool(x6)\n",
    "        x8 = x7.view(x7.size(0), -1)\n",
    "        y_hat = self.fc(x8)\n",
    "\n",
    "        return y_hat\n",
    "\n",
    "net_glob_server = ResNet18_server_side(Baseblock, [2,2,2], 7) #7 is my numbr of classes\n",
    "if torch.cuda.device_count() > 1:\n",
    "    print(\"We use\",torch.cuda.device_count(), \"GPUs\")\n",
    "    net_glob_server = nn.DataParallel(net_glob_server)   # to use the multiple GPUs\n",
    "\n",
    "net_glob_server.to(device)\n",
    "print(net_glob_server)"
   ]
  },
  {
   "cell_type": "code",
   "execution_count": 8,
   "id": "a017540c",
   "metadata": {
    "execution": {
     "iopub.execute_input": "2024-04-25T17:09:57.282231Z",
     "iopub.status.busy": "2024-04-25T17:09:57.281900Z",
     "iopub.status.idle": "2024-04-25T17:09:57.286756Z",
     "shell.execute_reply": "2024-04-25T17:09:57.286007Z"
    },
    "executionInfo": {
     "elapsed": 2,
     "status": "ok",
     "timestamp": 1714056771124,
     "user": {
      "displayName": "Vedant Brahmbhatt",
      "userId": "10731296993634284469"
     },
     "user_tz": -330
    },
    "id": "Zm05LhJBvixs",
    "papermill": {
     "duration": 0.012894,
     "end_time": "2024-04-25T17:09:57.288529",
     "exception": false,
     "start_time": "2024-04-25T17:09:57.275635",
     "status": "completed"
    },
    "tags": []
   },
   "outputs": [],
   "source": [
    "#===================================================================================\n",
    "# For Server Side Loss and Accuracy\n",
    "loss_train_collect = []\n",
    "acc_train_collect = []\n",
    "loss_test_collect = []\n",
    "acc_test_collect = []\n",
    "batch_acc_train = []\n",
    "batch_loss_train = []\n",
    "batch_acc_test = []\n",
    "batch_loss_test = []\n",
    "\n",
    "criterion = nn.CrossEntropyLoss()\n",
    "count1 = 0\n",
    "count2 = 0"
   ]
  },
  {
   "cell_type": "code",
   "execution_count": 9,
   "id": "74e1cc5a",
   "metadata": {
    "execution": {
     "iopub.execute_input": "2024-04-25T17:09:57.301954Z",
     "iopub.status.busy": "2024-04-25T17:09:57.301650Z",
     "iopub.status.idle": "2024-04-25T17:09:57.320196Z",
     "shell.execute_reply": "2024-04-25T17:09:57.319384Z"
    },
    "executionInfo": {
     "elapsed": 2,
     "status": "ok",
     "timestamp": 1714056772688,
     "user": {
      "displayName": "Vedant Brahmbhatt",
      "userId": "10731296993634284469"
     },
     "user_tz": -330
    },
    "id": "5sjadyd2vq5C",
    "papermill": {
     "duration": 0.027362,
     "end_time": "2024-04-25T17:09:57.321864",
     "exception": false,
     "start_time": "2024-04-25T17:09:57.294502",
     "status": "completed"
    },
    "tags": []
   },
   "outputs": [],
   "source": [
    "#====================================================================================================\n",
    "#                                  Server Side Programs\n",
    "#====================================================================================================\n",
    "# Federated averaging: FedAvg\n",
    "def FedAvg(w):\n",
    "    w_avg = copy.deepcopy(w[0])\n",
    "    for k in w_avg.keys():\n",
    "        for i in range(1, len(w)):\n",
    "            w_avg[k] += w[i][k]\n",
    "        w_avg[k] = torch.div(w_avg[k], len(w))\n",
    "    return w_avg\n",
    "\n",
    "def calculate_accuracy(fx, y):\n",
    "    preds = fx.max(1, keepdim=True)[1]\n",
    "    correct = preds.eq(y.view_as(preds)).sum()\n",
    "    acc = 100.00 *correct.float()/preds.shape[0]\n",
    "    return acc\n",
    "\n",
    "# to print train - test together in each round-- these are made global\n",
    "acc_avg_all_user_train = 0\n",
    "loss_avg_all_user_train = 0\n",
    "loss_train_collect_user = []\n",
    "acc_train_collect_user = []\n",
    "loss_test_collect_user = []\n",
    "acc_test_collect_user = []\n",
    "\n",
    "\n",
    "#client idx collector\n",
    "idx_collect = []\n",
    "l_epoch_check = False\n",
    "fed_check = False\n",
    "\n",
    "# Server-side function associated with Training\n",
    "def train_server(fx_client, y, l_epoch_count, l_epoch, idx, len_batch):\n",
    "    global net_glob_server, criterion, device, batch_acc_train, batch_loss_train, l_epoch_check, fed_check\n",
    "    global loss_train_collect, acc_train_collect, count1, acc_avg_all_user_train, loss_avg_all_user_train, idx_collect\n",
    "    global loss_train_collect_user, acc_train_collect_user, lr\n",
    "\n",
    "    net_glob_server.train()\n",
    "    optimizer_server = torch.optim.Adam(net_glob_server.parameters(), lr = lr)\n",
    "\n",
    "\n",
    "    # train and update\n",
    "    optimizer_server.zero_grad()\n",
    "\n",
    "    fx_client = fx_client.to(device)\n",
    "    y = y.to(device)\n",
    "\n",
    "    #---------forward prop-------------\n",
    "    fx_server = net_glob_server(fx_client)\n",
    "\n",
    "    # calculate loss\n",
    "    loss = criterion(fx_server, y)\n",
    "    # calculate accuracy\n",
    "    acc = calculate_accuracy(fx_server, y)\n",
    "\n",
    "    #--------backward prop--------------\n",
    "    loss.backward()\n",
    "    dfx_client = fx_client.grad.clone().detach()\n",
    "    optimizer_server.step()\n",
    "\n",
    "    batch_loss_train.append(loss.item())\n",
    "    batch_acc_train.append(acc.item())\n",
    "\n",
    "    # server-side model net_glob_server is global so it is updated automatically in each pass to this function\n",
    "\n",
    "    # count1: to track the completion of the local batch associated with one client\n",
    "    count1 += 1\n",
    "    if count1 == len_batch:\n",
    "        acc_avg_train = sum(batch_acc_train)/len(batch_acc_train)           # it has accuracy for one batch\n",
    "        loss_avg_train = sum(batch_loss_train)/len(batch_loss_train)\n",
    "\n",
    "        batch_acc_train = []\n",
    "        batch_loss_train = []\n",
    "        count1 = 0\n",
    "\n",
    "        prRed('Client{} Train => Local Epoch: {} \\tAcc: {:.3f} \\tLoss: {:.4f}'.format(idx, l_epoch_count, acc_avg_train, loss_avg_train))\n",
    "\n",
    "\n",
    "        # If one local epoch is completed, after this a new client will come\n",
    "        if l_epoch_count == l_epoch-1:\n",
    "\n",
    "            l_epoch_check = True                # to evaluate_server function - to check local epoch has completed or not\n",
    "\n",
    "            # we store the last accuracy in the last batch of the epoch and it is not the average of all local epochs\n",
    "            # this is because we work on the last trained model and its accuracy (not earlier cases)\n",
    "\n",
    "            #print(\"accuracy = \", acc_avg_train)\n",
    "            acc_avg_train_all = acc_avg_train\n",
    "            loss_avg_train_all = loss_avg_train\n",
    "\n",
    "            # accumulate accuracy and loss for each new user\n",
    "            loss_train_collect_user.append(loss_avg_train_all)\n",
    "            acc_train_collect_user.append(acc_avg_train_all)\n",
    "\n",
    "            # collect the id of each new user\n",
    "            if idx not in idx_collect:\n",
    "                idx_collect.append(idx)\n",
    "                #print(idx_collect)\n",
    "\n",
    "        # This is to check if all users are served for one round --------------------\n",
    "        if len(idx_collect) == num_users:\n",
    "            fed_check = True                                                  # to evaluate_server function  - to check fed check has hitted\n",
    "            # all users served for one round ------------------------- output print and update is done in evaluate_server()\n",
    "            # for nicer display\n",
    "\n",
    "            idx_collect = []\n",
    "\n",
    "            acc_avg_all_user_train = sum(acc_train_collect_user)/len(acc_train_collect_user)\n",
    "            loss_avg_all_user_train = sum(loss_train_collect_user)/len(loss_train_collect_user)\n",
    "\n",
    "            loss_train_collect.append(loss_avg_all_user_train)\n",
    "            acc_train_collect.append(acc_avg_all_user_train)\n",
    "\n",
    "            acc_train_collect_user = []\n",
    "            loss_train_collect_user = []\n",
    "\n",
    "    # send gradients to the client\n",
    "    return dfx_client\n",
    "\n",
    "# Server-side functions associated with Testing\n",
    "def evaluate_server(fx_client, y, idx, len_batch, ell):\n",
    "    global net_glob_server, criterion, batch_acc_test, batch_loss_test\n",
    "    global loss_test_collect, acc_test_collect, count2, num_users, acc_avg_train_all, loss_avg_train_all, l_epoch_check, fed_check\n",
    "    global loss_test_collect_user, acc_test_collect_user, acc_avg_all_user_train, loss_avg_all_user_train\n",
    "\n",
    "    net_glob_server.eval()\n",
    "\n",
    "    with torch.no_grad():\n",
    "        fx_client = fx_client.to(device)\n",
    "        y = y.to(device)\n",
    "        #---------forward prop-------------\n",
    "        fx_server = net_glob_server(fx_client)\n",
    "\n",
    "        # calculate loss\n",
    "        loss = criterion(fx_server, y)\n",
    "        # calculate accuracy\n",
    "        acc = calculate_accuracy(fx_server, y)\n",
    "\n",
    "\n",
    "        batch_loss_test.append(loss.item())\n",
    "        batch_acc_test.append(acc.item())\n",
    "\n",
    "\n",
    "        count2 += 1\n",
    "        if count2 == len_batch:\n",
    "            acc_avg_test = sum(batch_acc_test)/len(batch_acc_test)\n",
    "            loss_avg_test = sum(batch_loss_test)/len(batch_loss_test)\n",
    "\n",
    "            batch_acc_test = []\n",
    "            batch_loss_test = []\n",
    "            count2 = 0\n",
    "\n",
    "            prGreen('Client{} Test =>                   \\tAcc: {:.3f} \\tLoss: {:.4f}'.format(idx, acc_avg_test, loss_avg_test))\n",
    "\n",
    "            # if a local epoch is completed\n",
    "            if l_epoch_check:\n",
    "                l_epoch_check = False\n",
    "\n",
    "                # Store the last accuracy and loss\n",
    "                acc_avg_test_all = acc_avg_test\n",
    "                loss_avg_test_all = loss_avg_test\n",
    "\n",
    "                loss_test_collect_user.append(loss_avg_test_all)\n",
    "                acc_test_collect_user.append(acc_avg_test_all)\n",
    "\n",
    "            # if all users are served for one round ----------\n",
    "            if fed_check:\n",
    "                fed_check = False\n",
    "\n",
    "                acc_avg_all_user = sum(acc_test_collect_user)/len(acc_test_collect_user)\n",
    "                loss_avg_all_user = sum(loss_test_collect_user)/len(loss_test_collect_user)\n",
    "\n",
    "                loss_test_collect.append(loss_avg_all_user)\n",
    "                acc_test_collect.append(acc_avg_all_user)\n",
    "                acc_test_collect_user = []\n",
    "                loss_test_collect_user= []\n",
    "\n",
    "                print(\"====================== SERVER V1==========================\")\n",
    "                print(' Train: Round {:3d}, Avg Accuracy {:.3f} | Avg Loss {:.3f}'.format(ell, acc_avg_all_user_train, loss_avg_all_user_train))\n",
    "                print(' Test: Round {:3d}, Avg Accuracy {:.3f} | Avg Loss {:.3f}'.format(ell, acc_avg_all_user, loss_avg_all_user))\n",
    "                print(\"==========================================================\")\n",
    "\n",
    "    return\n"
   ]
  },
  {
   "cell_type": "code",
   "execution_count": 10,
   "id": "f86eb8a7",
   "metadata": {
    "execution": {
     "iopub.execute_input": "2024-04-25T17:09:57.332713Z",
     "iopub.status.busy": "2024-04-25T17:09:57.332453Z",
     "iopub.status.idle": "2024-04-25T17:09:57.342562Z",
     "shell.execute_reply": "2024-04-25T17:09:57.341879Z"
    },
    "executionInfo": {
     "elapsed": 2,
     "status": "ok",
     "timestamp": 1714056787116,
     "user": {
      "displayName": "Vedant Brahmbhatt",
      "userId": "10731296993634284469"
     },
     "user_tz": -330
    },
    "id": "0reKQhAzvrYF",
    "papermill": {
     "duration": 0.017651,
     "end_time": "2024-04-25T17:09:57.344459",
     "exception": false,
     "start_time": "2024-04-25T17:09:57.326808",
     "status": "completed"
    },
    "tags": []
   },
   "outputs": [],
   "source": [
    "#==============================================================================================================\n",
    "#                                       Clients Side Program\n",
    "#==============================================================================================================\n",
    "class DatasetSplit(Dataset):\n",
    "    def __init__(self, dataset, idxs):\n",
    "        self.dataset = dataset\n",
    "        self.idxs = list(idxs)\n",
    "\n",
    "    def __len__(self):\n",
    "        return len(self.idxs)\n",
    "\n",
    "    def __getitem__(self, item):\n",
    "        image, label = self.dataset[self.idxs[item]]\n",
    "        return image, label\n",
    "\n",
    "# Client-side functions associated with Training and Testing\n",
    "class Client(object):\n",
    "    def __init__(self, net_client_model, idx, lr, device, dataset_train = None, dataset_test = None, idxs = None, idxs_test = None):\n",
    "        self.idx = idx\n",
    "        self.device = device\n",
    "        self.lr = lr\n",
    "        self.local_ep = 1\n",
    "        #self.selected_clients = []\n",
    "        self.ldr_train = DataLoader(DatasetSplit(dataset_train, idxs), batch_size = 256, shuffle = True)\n",
    "        self.ldr_test = DataLoader(DatasetSplit(dataset_test, idxs_test), batch_size = 256, shuffle = True)\n",
    "\n",
    "\n",
    "    def train(self, net):\n",
    "        net.train()\n",
    "        optimizer_client = torch.optim.Adam(net.parameters(), lr = self.lr)\n",
    "\n",
    "        for iter in range(self.local_ep):\n",
    "            len_batch = len(self.ldr_train)\n",
    "            for batch_idx, (images, labels) in enumerate(self.ldr_train):\n",
    "                images, labels = images.to(self.device), labels.to(self.device)\n",
    "                optimizer_client.zero_grad()\n",
    "                #---------forward prop-------------\n",
    "                fx = net(images)\n",
    "                client_fx = fx.clone().detach().requires_grad_(True)\n",
    "\n",
    "                # Sending activations to server and receiving gradients from server\n",
    "                dfx = train_server(client_fx, labels, iter, self.local_ep, self.idx, len_batch)\n",
    "\n",
    "                #--------backward prop -------------\n",
    "                fx.backward(dfx)\n",
    "                optimizer_client.step()\n",
    "\n",
    "\n",
    "            #prRed('Client{} Train => Epoch: {}'.format(self.idx, ell))\n",
    "\n",
    "        return net.state_dict()\n",
    "\n",
    "    def evaluate(self, net, ell):\n",
    "        net.eval()\n",
    "\n",
    "        with torch.no_grad():\n",
    "            len_batch = len(self.ldr_test)\n",
    "            for batch_idx, (images, labels) in enumerate(self.ldr_test):\n",
    "                images, labels = images.to(self.device), labels.to(self.device)\n",
    "                #---------forward prop-------------\n",
    "                fx = net(images)\n",
    "\n",
    "                # Sending activations to server\n",
    "                evaluate_server(fx, labels, self.idx, len_batch, ell)\n",
    "\n",
    "            #prRed('Client{} Test => Epoch: {}'.format(self.idx, ell))\n",
    "\n",
    "        return"
   ]
  },
  {
   "cell_type": "code",
   "execution_count": 11,
   "id": "4708b50d",
   "metadata": {
    "execution": {
     "iopub.execute_input": "2024-04-25T17:09:57.355329Z",
     "iopub.status.busy": "2024-04-25T17:09:57.355059Z",
     "iopub.status.idle": "2024-04-25T17:09:57.359640Z",
     "shell.execute_reply": "2024-04-25T17:09:57.358952Z"
    },
    "executionInfo": {
     "elapsed": 545,
     "status": "ok",
     "timestamp": 1714056795860,
     "user": {
      "displayName": "Vedant Brahmbhatt",
      "userId": "10731296993634284469"
     },
     "user_tz": -330
    },
    "id": "ZIhYj_7YvuiB",
    "papermill": {
     "duration": 0.011849,
     "end_time": "2024-04-25T17:09:57.361043",
     "exception": false,
     "start_time": "2024-04-25T17:09:57.349194",
     "status": "completed"
    },
    "tags": []
   },
   "outputs": [],
   "source": [
    "#=====================================================================================================\n",
    "# dataset_iid() will create a dictionary to collect the indices of the data samples randomly for each client\n",
    "# IID HAM10000 datasets will be created based on this\n",
    "def dataset_iid(dataset, num_users):\n",
    "\n",
    "    num_items = int(len(dataset)/num_users)\n",
    "    dict_users, all_idxs = {}, [i for i in range(len(dataset))]\n",
    "    for i in range(num_users):\n",
    "        dict_users[i] = set(np.random.choice(all_idxs, num_items, replace = False))\n",
    "        all_idxs = list(set(all_idxs) - dict_users[i])\n",
    "    return dict_users"
   ]
  },
  {
   "cell_type": "code",
   "execution_count": 12,
   "id": "cabfd5ba",
   "metadata": {
    "execution": {
     "iopub.execute_input": "2024-04-25T17:09:57.371714Z",
     "iopub.status.busy": "2024-04-25T17:09:57.371476Z",
     "iopub.status.idle": "2024-04-25T17:09:58.189128Z",
     "shell.execute_reply": "2024-04-25T17:09:58.188237Z"
    },
    "id": "tlqv8Yszvw7p",
    "papermill": {
     "duration": 0.825042,
     "end_time": "2024-04-25T17:09:58.191043",
     "exception": false,
     "start_time": "2024-04-25T17:09:57.366001",
     "status": "completed"
    },
    "tags": []
   },
   "outputs": [
    {
     "name": "stdout",
     "output_type": "stream",
     "text": [
      "     lesion_id      image_id   dx dx_type   age   sex localization\n",
      "0  HAM_0000118  ISIC_0027419  bkl   histo  80.0  male        scalp\n",
      "1  HAM_0000118  ISIC_0025030  bkl   histo  80.0  male        scalp\n",
      "2  HAM_0002730  ISIC_0026769  bkl   histo  80.0  male        scalp\n",
      "3  HAM_0002730  ISIC_0025661  bkl   histo  80.0  male        scalp\n",
      "4  HAM_0001466  ISIC_0031633  bkl   histo  75.0  male          ear\n"
     ]
    },
    {
     "name": "stdout",
     "output_type": "stream",
     "text": [
      "cell_type\n",
      "Melanocytic nevi                  6705\n",
      "Melanoma                          1113\n",
      "Benign keratosis-like lesions     1099\n",
      "Basal cell carcinoma               514\n",
      "Actinic keratoses                  327\n",
      "Vascular lesions                   142\n",
      "Dermatofibroma                     115\n",
      "Name: count, dtype: int64\n",
      "target\n",
      "4    6705\n",
      "5    1113\n",
      "2    1099\n",
      "1     514\n",
      "0     327\n",
      "6     142\n",
      "3     115\n",
      "Name: count, dtype: int64\n"
     ]
    }
   ],
   "source": [
    "#=============================================================================\n",
    "#                         Data loading\n",
    "#=============================================================================\n",
    "df = pd.read_csv('/kaggle/input/skin-cancer-mnist-ham10000/HAM10000_metadata.csv')\n",
    "print(df.head())\n",
    "\n",
    "\n",
    "lesion_type = {\n",
    "    'nv': 'Melanocytic nevi',\n",
    "    'mel': 'Melanoma',\n",
    "    'bkl': 'Benign keratosis-like lesions ',\n",
    "    'bcc': 'Basal cell carcinoma',\n",
    "    'akiec': 'Actinic keratoses',\n",
    "    'vasc': 'Vascular lesions',\n",
    "    'df': 'Dermatofibroma'\n",
    "}\n",
    "\n",
    "# merging both folders of HAM1000 dataset -- part1 and part2 -- into a single directory\n",
    "imageid_path = {os.path.splitext(os.path.basename(x))[0]: x\n",
    "                for x in glob(os.path.join(\"/kaggle/input/skin-cancer-mnist-ham10000\", '*', '*.jpg'))}\n",
    "\n",
    "\n",
    "#print(\"path---------------------------------------\", imageid_path.get)\n",
    "df['path'] = df['image_id'].map(imageid_path.get)\n",
    "df['cell_type'] = df['dx'].map(lesion_type.get)\n",
    "df['target'] = pd.Categorical(df['cell_type']).codes\n",
    "print(df['cell_type'].value_counts())\n",
    "print(df['target'].value_counts())"
   ]
  },
  {
   "cell_type": "code",
   "execution_count": 13,
   "id": "48bde9e5",
   "metadata": {
    "execution": {
     "iopub.execute_input": "2024-04-25T17:09:58.203416Z",
     "iopub.status.busy": "2024-04-25T17:09:58.202723Z",
     "iopub.status.idle": "2024-04-25T17:09:58.208526Z",
     "shell.execute_reply": "2024-04-25T17:09:58.207773Z"
    },
    "id": "f9zFXu7yv01P",
    "papermill": {
     "duration": 0.014005,
     "end_time": "2024-04-25T17:09:58.210374",
     "exception": false,
     "start_time": "2024-04-25T17:09:58.196369",
     "status": "completed"
    },
    "tags": []
   },
   "outputs": [],
   "source": [
    "#==============================================================\n",
    "# Custom dataset prepration to Pytorch format\n",
    "class SkinData(Dataset):\n",
    "    def __init__(self, df, transform = None):\n",
    "\n",
    "        self.df = df\n",
    "        self.transform = transform\n",
    "\n",
    "    def __len__(self):\n",
    "\n",
    "        return len(self.df)\n",
    "\n",
    "    def __getitem__(self, index):\n",
    "\n",
    "        X = Image.open(self.df['path'][index]).resize((64, 64))\n",
    "        y = torch.tensor(int(self.df['target'][index]))\n",
    "\n",
    "        if self.transform:\n",
    "            X = self.transform(X)\n",
    "\n",
    "        return X, y"
   ]
  },
  {
   "cell_type": "code",
   "execution_count": 14,
   "id": "a5f82ff0",
   "metadata": {
    "execution": {
     "iopub.execute_input": "2024-04-25T17:09:58.221601Z",
     "iopub.status.busy": "2024-04-25T17:09:58.221347Z",
     "iopub.status.idle": "2024-04-25T17:09:58.233565Z",
     "shell.execute_reply": "2024-04-25T17:09:58.232706Z"
    },
    "id": "XY9OxKaTv3lG",
    "papermill": {
     "duration": 0.020182,
     "end_time": "2024-04-25T17:09:58.235714",
     "exception": false,
     "start_time": "2024-04-25T17:09:58.215532",
     "status": "completed"
    },
    "tags": []
   },
   "outputs": [],
   "source": [
    "#=============================================================================\n",
    "# Train-test split\n",
    "train, test = train_test_split(df, test_size = 0.1)\n",
    "\n",
    "train = train.reset_index()\n",
    "test = test.reset_index()\n"
   ]
  },
  {
   "cell_type": "code",
   "execution_count": 15,
   "id": "647da3d9",
   "metadata": {
    "execution": {
     "iopub.execute_input": "2024-04-25T17:09:58.248320Z",
     "iopub.status.busy": "2024-04-25T17:09:58.247978Z",
     "iopub.status.idle": "2024-04-25T17:09:58.261226Z",
     "shell.execute_reply": "2024-04-25T17:09:58.260491Z"
    },
    "id": "INLfRHUJv5qe",
    "papermill": {
     "duration": 0.02156,
     "end_time": "2024-04-25T17:09:58.262800",
     "exception": false,
     "start_time": "2024-04-25T17:09:58.241240",
     "status": "completed"
    },
    "tags": []
   },
   "outputs": [],
   "source": [
    "#=============================================================================\n",
    "#                         Data preprocessing\n",
    "#=============================================================================\n",
    "# Data preprocessing: Transformation\n",
    "mean = [0.485, 0.456, 0.406]\n",
    "std = [0.229, 0.224, 0.225]\n",
    "\n",
    "train_transforms = transforms.Compose([transforms.RandomHorizontalFlip(),\n",
    "                        transforms.RandomVerticalFlip(),\n",
    "                        transforms.Pad(3),\n",
    "                        transforms.RandomRotation(10),\n",
    "                        transforms.CenterCrop(64),\n",
    "                        transforms.ToTensor(),\n",
    "                        transforms.Normalize(mean = mean, std = std)\n",
    "                        ])\n",
    "\n",
    "test_transforms = transforms.Compose([\n",
    "                        transforms.Pad(3),\n",
    "                        transforms.CenterCrop(64),\n",
    "                        transforms.ToTensor(),\n",
    "                        transforms.Normalize(mean = mean, std = std)\n",
    "                        ])\n",
    "\n",
    "\n",
    "# With augmentation\n",
    "dataset_train = SkinData(train, transform = train_transforms)\n",
    "dataset_test = SkinData(test, transform = test_transforms)\n",
    "\n",
    "#----------------------------------------------------------------\n",
    "dict_users = dataset_iid(dataset_train, num_users)\n",
    "dict_users_test = dataset_iid(dataset_test, num_users)"
   ]
  },
  {
   "cell_type": "code",
   "execution_count": 16,
   "id": "f5e43856",
   "metadata": {
    "execution": {
     "iopub.execute_input": "2024-04-25T17:09:58.274190Z",
     "iopub.status.busy": "2024-04-25T17:09:58.273889Z",
     "iopub.status.idle": "2024-04-25T17:29:10.361784Z",
     "shell.execute_reply": "2024-04-25T17:29:10.360737Z"
    },
    "id": "DoV8O1swv-WO",
    "papermill": {
     "duration": 1152.095814,
     "end_time": "2024-04-25T17:29:10.363701",
     "exception": false,
     "start_time": "2024-04-25T17:09:58.267887",
     "status": "completed"
    },
    "tags": []
   },
   "outputs": [
    {
     "name": "stdout",
     "output_type": "stream",
     "text": [
      "\u001b[91m Client2 Train => Local Epoch: 0 \tAcc: 45.205 \tLoss: 1.5917\u001b[00m\n"
     ]
    },
    {
     "name": "stdout",
     "output_type": "stream",
     "text": [
      "\u001b[92m Client2 Test =>                   \tAcc: 66.000 \tLoss: 1.6539\u001b[00m\n"
     ]
    },
    {
     "name": "stdout",
     "output_type": "stream",
     "text": [
      "\u001b[91m Client4 Train => Local Epoch: 0 \tAcc: 69.814 \tLoss: 0.9396\u001b[00m\n"
     ]
    },
    {
     "name": "stdout",
     "output_type": "stream",
     "text": [
      "\u001b[92m Client4 Test =>                   \tAcc: 64.000 \tLoss: 1.2946\u001b[00m\n"
     ]
    },
    {
     "name": "stdout",
     "output_type": "stream",
     "text": [
      "\u001b[91m Client0 Train => Local Epoch: 0 \tAcc: 66.113 \tLoss: 0.9948\u001b[00m\n"
     ]
    },
    {
     "name": "stdout",
     "output_type": "stream",
     "text": [
      "\u001b[92m Client0 Test =>                   \tAcc: 68.500 \tLoss: 1.1746\u001b[00m\n"
     ]
    },
    {
     "name": "stdout",
     "output_type": "stream",
     "text": [
      "\u001b[91m Client1 Train => Local Epoch: 0 \tAcc: 68.242 \tLoss: 0.9102\u001b[00m\n"
     ]
    },
    {
     "name": "stdout",
     "output_type": "stream",
     "text": [
      "\u001b[92m Client1 Test =>                   \tAcc: 72.500 \tLoss: 1.1357\u001b[00m\n"
     ]
    },
    {
     "name": "stdout",
     "output_type": "stream",
     "text": [
      "\u001b[91m Client3 Train => Local Epoch: 0 \tAcc: 67.988 \tLoss: 0.8894\u001b[00m\n"
     ]
    },
    {
     "name": "stdout",
     "output_type": "stream",
     "text": [
      "\u001b[92m Client3 Test =>                   \tAcc: 64.000 \tLoss: 1.3041\u001b[00m\n",
      "====================== SERVER V1==========================\n",
      " Train: Round   0, Avg Accuracy 63.473 | Avg Loss 1.065\n",
      " Test: Round   0, Avg Accuracy 67.000 | Avg Loss 1.313\n",
      "==========================================================\n",
      "------------------------------------------------------------\n",
      "------ Fed Server: Federation process at Client-Side -------\n",
      "------------------------------------------------------------\n"
     ]
    },
    {
     "name": "stdout",
     "output_type": "stream",
     "text": [
      "\u001b[91m Client1 Train => Local Epoch: 0 \tAcc: 67.061 \tLoss: 0.8695\u001b[00m\n"
     ]
    },
    {
     "name": "stdout",
     "output_type": "stream",
     "text": [
      "\u001b[92m Client1 Test =>                   \tAcc: 54.000 \tLoss: 1.2087\u001b[00m\n"
     ]
    },
    {
     "name": "stdout",
     "output_type": "stream",
     "text": [
      "\u001b[91m Client0 Train => Local Epoch: 0 \tAcc: 71.426 \tLoss: 0.8070\u001b[00m\n"
     ]
    },
    {
     "name": "stdout",
     "output_type": "stream",
     "text": [
      "\u001b[92m Client0 Test =>                   \tAcc: 32.500 \tLoss: 1.4793\u001b[00m\n"
     ]
    },
    {
     "name": "stdout",
     "output_type": "stream",
     "text": [
      "\u001b[91m Client4 Train => Local Epoch: 0 \tAcc: 74.824 \tLoss: 0.7153\u001b[00m\n"
     ]
    },
    {
     "name": "stdout",
     "output_type": "stream",
     "text": [
      "\u001b[92m Client4 Test =>                   \tAcc: 27.000 \tLoss: 1.5932\u001b[00m\n"
     ]
    },
    {
     "name": "stdout",
     "output_type": "stream",
     "text": [
      "\u001b[91m Client3 Train => Local Epoch: 0 \tAcc: 73.330 \tLoss: 0.7411\u001b[00m\n"
     ]
    },
    {
     "name": "stdout",
     "output_type": "stream",
     "text": [
      "\u001b[92m Client3 Test =>                   \tAcc: 48.000 \tLoss: 1.4116\u001b[00m\n"
     ]
    },
    {
     "name": "stdout",
     "output_type": "stream",
     "text": [
      "\u001b[91m Client2 Train => Local Epoch: 0 \tAcc: 73.506 \tLoss: 0.7267\u001b[00m\n"
     ]
    },
    {
     "name": "stdout",
     "output_type": "stream",
     "text": [
      "\u001b[92m Client2 Test =>                   \tAcc: 58.500 \tLoss: 1.2801\u001b[00m\n",
      "====================== SERVER V1==========================\n",
      " Train: Round   1, Avg Accuracy 72.029 | Avg Loss 0.772\n",
      " Test: Round   1, Avg Accuracy 44.000 | Avg Loss 1.395\n",
      "==========================================================\n",
      "------------------------------------------------------------\n",
      "------ Fed Server: Federation process at Client-Side -------\n",
      "------------------------------------------------------------\n"
     ]
    },
    {
     "name": "stdout",
     "output_type": "stream",
     "text": [
      "\u001b[91m Client1 Train => Local Epoch: 0 \tAcc: 74.355 \tLoss: 0.7801\u001b[00m\n"
     ]
    },
    {
     "name": "stdout",
     "output_type": "stream",
     "text": [
      "\u001b[92m Client1 Test =>                   \tAcc: 68.500 \tLoss: 0.9458\u001b[00m\n"
     ]
    },
    {
     "name": "stdout",
     "output_type": "stream",
     "text": [
      "\u001b[91m Client0 Train => Local Epoch: 0 \tAcc: 70.928 \tLoss: 0.7499\u001b[00m\n"
     ]
    },
    {
     "name": "stdout",
     "output_type": "stream",
     "text": [
      "\u001b[92m Client0 Test =>                   \tAcc: 70.500 \tLoss: 0.9760\u001b[00m\n"
     ]
    },
    {
     "name": "stdout",
     "output_type": "stream",
     "text": [
      "\u001b[91m Client4 Train => Local Epoch: 0 \tAcc: 76.904 \tLoss: 0.6663\u001b[00m\n"
     ]
    },
    {
     "name": "stdout",
     "output_type": "stream",
     "text": [
      "\u001b[92m Client4 Test =>                   \tAcc: 60.500 \tLoss: 1.1518\u001b[00m\n"
     ]
    },
    {
     "name": "stdout",
     "output_type": "stream",
     "text": [
      "\u001b[91m Client3 Train => Local Epoch: 0 \tAcc: 76.680 \tLoss: 0.6860\u001b[00m\n"
     ]
    },
    {
     "name": "stdout",
     "output_type": "stream",
     "text": [
      "\u001b[92m Client3 Test =>                   \tAcc: 62.500 \tLoss: 1.0760\u001b[00m\n"
     ]
    },
    {
     "name": "stdout",
     "output_type": "stream",
     "text": [
      "\u001b[91m Client2 Train => Local Epoch: 0 \tAcc: 71.318 \tLoss: 0.7888\u001b[00m\n"
     ]
    },
    {
     "name": "stdout",
     "output_type": "stream",
     "text": [
      "\u001b[92m Client2 Test =>                   \tAcc: 67.000 \tLoss: 1.0377\u001b[00m\n",
      "====================== SERVER V1==========================\n",
      " Train: Round   2, Avg Accuracy 74.037 | Avg Loss 0.734\n",
      " Test: Round   2, Avg Accuracy 65.800 | Avg Loss 1.037\n",
      "==========================================================\n",
      "------------------------------------------------------------\n",
      "------ Fed Server: Federation process at Client-Side -------\n",
      "------------------------------------------------------------\n"
     ]
    },
    {
     "name": "stdout",
     "output_type": "stream",
     "text": [
      "\u001b[91m Client3 Train => Local Epoch: 0 \tAcc: 74.326 \tLoss: 0.6853\u001b[00m\n"
     ]
    },
    {
     "name": "stdout",
     "output_type": "stream",
     "text": [
      "\u001b[92m Client3 Test =>                   \tAcc: 66.000 \tLoss: 1.0350\u001b[00m\n"
     ]
    },
    {
     "name": "stdout",
     "output_type": "stream",
     "text": [
      "\u001b[91m Client2 Train => Local Epoch: 0 \tAcc: 71.240 \tLoss: 0.6867\u001b[00m\n"
     ]
    },
    {
     "name": "stdout",
     "output_type": "stream",
     "text": [
      "\u001b[92m Client2 Test =>                   \tAcc: 69.500 \tLoss: 0.8463\u001b[00m\n"
     ]
    },
    {
     "name": "stdout",
     "output_type": "stream",
     "text": [
      "\u001b[91m Client0 Train => Local Epoch: 0 \tAcc: 74.551 \tLoss: 0.7217\u001b[00m\n"
     ]
    },
    {
     "name": "stdout",
     "output_type": "stream",
     "text": [
      "\u001b[92m Client0 Test =>                   \tAcc: 74.500 \tLoss: 0.8625\u001b[00m\n"
     ]
    },
    {
     "name": "stdout",
     "output_type": "stream",
     "text": [
      "\u001b[91m Client1 Train => Local Epoch: 0 \tAcc: 76.338 \tLoss: 0.6651\u001b[00m\n"
     ]
    },
    {
     "name": "stdout",
     "output_type": "stream",
     "text": [
      "\u001b[92m Client1 Test =>                   \tAcc: 73.500 \tLoss: 0.7514\u001b[00m\n"
     ]
    },
    {
     "name": "stdout",
     "output_type": "stream",
     "text": [
      "\u001b[91m Client4 Train => Local Epoch: 0 \tAcc: 76.455 \tLoss: 0.6475\u001b[00m\n"
     ]
    },
    {
     "name": "stdout",
     "output_type": "stream",
     "text": [
      "\u001b[92m Client4 Test =>                   \tAcc: 68.500 \tLoss: 1.0934\u001b[00m\n",
      "====================== SERVER V1==========================\n",
      " Train: Round   3, Avg Accuracy 74.582 | Avg Loss 0.681\n",
      " Test: Round   3, Avg Accuracy 70.400 | Avg Loss 0.918\n",
      "==========================================================\n",
      "------------------------------------------------------------\n",
      "------ Fed Server: Federation process at Client-Side -------\n",
      "------------------------------------------------------------\n"
     ]
    },
    {
     "name": "stdout",
     "output_type": "stream",
     "text": [
      "\u001b[91m Client3 Train => Local Epoch: 0 \tAcc: 75.742 \tLoss: 0.6213\u001b[00m\n"
     ]
    },
    {
     "name": "stdout",
     "output_type": "stream",
     "text": [
      "\u001b[92m Client3 Test =>                   \tAcc: 68.000 \tLoss: 1.0047\u001b[00m\n"
     ]
    },
    {
     "name": "stdout",
     "output_type": "stream",
     "text": [
      "\u001b[91m Client0 Train => Local Epoch: 0 \tAcc: 74.844 \tLoss: 0.6652\u001b[00m\n"
     ]
    },
    {
     "name": "stdout",
     "output_type": "stream",
     "text": [
      "\u001b[92m Client0 Test =>                   \tAcc: 75.500 \tLoss: 0.8150\u001b[00m\n"
     ]
    },
    {
     "name": "stdout",
     "output_type": "stream",
     "text": [
      "\u001b[91m Client1 Train => Local Epoch: 0 \tAcc: 75.723 \tLoss: 0.6553\u001b[00m\n"
     ]
    },
    {
     "name": "stdout",
     "output_type": "stream",
     "text": [
      "\u001b[92m Client1 Test =>                   \tAcc: 73.500 \tLoss: 0.7330\u001b[00m\n"
     ]
    },
    {
     "name": "stdout",
     "output_type": "stream",
     "text": [
      "\u001b[91m Client2 Train => Local Epoch: 0 \tAcc: 73.691 \tLoss: 0.6786\u001b[00m\n"
     ]
    },
    {
     "name": "stdout",
     "output_type": "stream",
     "text": [
      "\u001b[92m Client2 Test =>                   \tAcc: 70.000 \tLoss: 0.8048\u001b[00m\n"
     ]
    },
    {
     "name": "stdout",
     "output_type": "stream",
     "text": [
      "\u001b[91m Client4 Train => Local Epoch: 0 \tAcc: 71.895 \tLoss: 0.7320\u001b[00m\n"
     ]
    },
    {
     "name": "stdout",
     "output_type": "stream",
     "text": [
      "\u001b[92m Client4 Test =>                   \tAcc: 68.500 \tLoss: 0.9015\u001b[00m\n",
      "====================== SERVER V1==========================\n",
      " Train: Round   4, Avg Accuracy 74.379 | Avg Loss 0.670\n",
      " Test: Round   4, Avg Accuracy 71.100 | Avg Loss 0.852\n",
      "==========================================================\n",
      "------------------------------------------------------------\n",
      "------ Fed Server: Federation process at Client-Side -------\n",
      "------------------------------------------------------------\n"
     ]
    },
    {
     "name": "stdout",
     "output_type": "stream",
     "text": [
      "\u001b[91m Client4 Train => Local Epoch: 0 \tAcc: 74.639 \tLoss: 0.6895\u001b[00m\n"
     ]
    },
    {
     "name": "stdout",
     "output_type": "stream",
     "text": [
      "\u001b[92m Client4 Test =>                   \tAcc: 71.000 \tLoss: 0.7952\u001b[00m\n"
     ]
    },
    {
     "name": "stdout",
     "output_type": "stream",
     "text": [
      "\u001b[91m Client2 Train => Local Epoch: 0 \tAcc: 72.930 \tLoss: 0.6745\u001b[00m\n"
     ]
    },
    {
     "name": "stdout",
     "output_type": "stream",
     "text": [
      "\u001b[92m Client2 Test =>                   \tAcc: 71.000 \tLoss: 0.7911\u001b[00m\n"
     ]
    },
    {
     "name": "stdout",
     "output_type": "stream",
     "text": [
      "\u001b[91m Client3 Train => Local Epoch: 0 \tAcc: 78.535 \tLoss: 0.6081\u001b[00m\n"
     ]
    },
    {
     "name": "stdout",
     "output_type": "stream",
     "text": [
      "\u001b[92m Client3 Test =>                   \tAcc: 69.500 \tLoss: 0.7485\u001b[00m\n"
     ]
    },
    {
     "name": "stdout",
     "output_type": "stream",
     "text": [
      "\u001b[91m Client1 Train => Local Epoch: 0 \tAcc: 75.771 \tLoss: 0.6370\u001b[00m\n"
     ]
    },
    {
     "name": "stdout",
     "output_type": "stream",
     "text": [
      "\u001b[92m Client1 Test =>                   \tAcc: 74.500 \tLoss: 0.6909\u001b[00m\n"
     ]
    },
    {
     "name": "stdout",
     "output_type": "stream",
     "text": [
      "\u001b[91m Client0 Train => Local Epoch: 0 \tAcc: 77.363 \tLoss: 0.6218\u001b[00m\n"
     ]
    },
    {
     "name": "stdout",
     "output_type": "stream",
     "text": [
      "\u001b[92m Client0 Test =>                   \tAcc: 76.000 \tLoss: 0.7267\u001b[00m\n",
      "====================== SERVER V1==========================\n",
      " Train: Round   5, Avg Accuracy 75.848 | Avg Loss 0.646\n",
      " Test: Round   5, Avg Accuracy 72.400 | Avg Loss 0.750\n",
      "==========================================================\n",
      "------------------------------------------------------------\n",
      "------ Fed Server: Federation process at Client-Side -------\n",
      "------------------------------------------------------------\n"
     ]
    },
    {
     "name": "stdout",
     "output_type": "stream",
     "text": [
      "\u001b[91m Client4 Train => Local Epoch: 0 \tAcc: 77.549 \tLoss: 0.5831\u001b[00m\n"
     ]
    },
    {
     "name": "stdout",
     "output_type": "stream",
     "text": [
      "\u001b[92m Client4 Test =>                   \tAcc: 73.000 \tLoss: 0.9004\u001b[00m\n"
     ]
    },
    {
     "name": "stdout",
     "output_type": "stream",
     "text": [
      "\u001b[91m Client3 Train => Local Epoch: 0 \tAcc: 74.902 \tLoss: 0.6397\u001b[00m\n"
     ]
    },
    {
     "name": "stdout",
     "output_type": "stream",
     "text": [
      "\u001b[92m Client3 Test =>                   \tAcc: 70.000 \tLoss: 0.7908\u001b[00m\n"
     ]
    },
    {
     "name": "stdout",
     "output_type": "stream",
     "text": [
      "\u001b[91m Client2 Train => Local Epoch: 0 \tAcc: 74.834 \tLoss: 0.7548\u001b[00m\n"
     ]
    },
    {
     "name": "stdout",
     "output_type": "stream",
     "text": [
      "\u001b[92m Client2 Test =>                   \tAcc: 75.500 \tLoss: 0.7165\u001b[00m\n"
     ]
    },
    {
     "name": "stdout",
     "output_type": "stream",
     "text": [
      "\u001b[91m Client0 Train => Local Epoch: 0 \tAcc: 77.998 \tLoss: 0.5997\u001b[00m\n"
     ]
    },
    {
     "name": "stdout",
     "output_type": "stream",
     "text": [
      "\u001b[92m Client0 Test =>                   \tAcc: 79.000 \tLoss: 0.6838\u001b[00m\n"
     ]
    },
    {
     "name": "stdout",
     "output_type": "stream",
     "text": [
      "\u001b[91m Client1 Train => Local Epoch: 0 \tAcc: 79.072 \tLoss: 0.5978\u001b[00m\n"
     ]
    },
    {
     "name": "stdout",
     "output_type": "stream",
     "text": [
      "\u001b[92m Client1 Test =>                   \tAcc: 77.000 \tLoss: 0.6733\u001b[00m\n",
      "====================== SERVER V1==========================\n",
      " Train: Round   6, Avg Accuracy 76.871 | Avg Loss 0.635\n",
      " Test: Round   6, Avg Accuracy 74.900 | Avg Loss 0.753\n",
      "==========================================================\n",
      "------------------------------------------------------------\n",
      "------ Fed Server: Federation process at Client-Side -------\n",
      "------------------------------------------------------------\n"
     ]
    },
    {
     "name": "stdout",
     "output_type": "stream",
     "text": [
      "\u001b[91m Client3 Train => Local Epoch: 0 \tAcc: 77.646 \tLoss: 0.5888\u001b[00m\n"
     ]
    },
    {
     "name": "stdout",
     "output_type": "stream",
     "text": [
      "\u001b[92m Client3 Test =>                   \tAcc: 73.500 \tLoss: 0.6702\u001b[00m\n"
     ]
    },
    {
     "name": "stdout",
     "output_type": "stream",
     "text": [
      "\u001b[91m Client2 Train => Local Epoch: 0 \tAcc: 75.078 \tLoss: 0.6285\u001b[00m\n"
     ]
    },
    {
     "name": "stdout",
     "output_type": "stream",
     "text": [
      "\u001b[92m Client2 Test =>                   \tAcc: 74.500 \tLoss: 0.6761\u001b[00m\n"
     ]
    },
    {
     "name": "stdout",
     "output_type": "stream",
     "text": [
      "\u001b[91m Client1 Train => Local Epoch: 0 \tAcc: 78.506 \tLoss: 0.5827\u001b[00m\n"
     ]
    },
    {
     "name": "stdout",
     "output_type": "stream",
     "text": [
      "\u001b[92m Client1 Test =>                   \tAcc: 78.500 \tLoss: 0.5772\u001b[00m\n"
     ]
    },
    {
     "name": "stdout",
     "output_type": "stream",
     "text": [
      "\u001b[91m Client4 Train => Local Epoch: 0 \tAcc: 81.299 \tLoss: 0.5358\u001b[00m\n"
     ]
    },
    {
     "name": "stdout",
     "output_type": "stream",
     "text": [
      "\u001b[92m Client4 Test =>                   \tAcc: 74.000 \tLoss: 0.7366\u001b[00m\n"
     ]
    },
    {
     "name": "stdout",
     "output_type": "stream",
     "text": [
      "\u001b[91m Client0 Train => Local Epoch: 0 \tAcc: 77.090 \tLoss: 0.6189\u001b[00m\n"
     ]
    },
    {
     "name": "stdout",
     "output_type": "stream",
     "text": [
      "\u001b[92m Client0 Test =>                   \tAcc: 77.500 \tLoss: 0.6533\u001b[00m\n",
      "====================== SERVER V1==========================\n",
      " Train: Round   7, Avg Accuracy 77.924 | Avg Loss 0.591\n",
      " Test: Round   7, Avg Accuracy 75.600 | Avg Loss 0.663\n",
      "==========================================================\n",
      "------------------------------------------------------------\n",
      "------ Fed Server: Federation process at Client-Side -------\n",
      "------------------------------------------------------------\n"
     ]
    },
    {
     "name": "stdout",
     "output_type": "stream",
     "text": [
      "\u001b[91m Client4 Train => Local Epoch: 0 \tAcc: 76.592 \tLoss: 0.5701\u001b[00m\n"
     ]
    },
    {
     "name": "stdout",
     "output_type": "stream",
     "text": [
      "\u001b[92m Client4 Test =>                   \tAcc: 77.000 \tLoss: 0.6640\u001b[00m\n"
     ]
    },
    {
     "name": "stdout",
     "output_type": "stream",
     "text": [
      "\u001b[91m Client2 Train => Local Epoch: 0 \tAcc: 78.262 \tLoss: 0.5674\u001b[00m\n"
     ]
    },
    {
     "name": "stdout",
     "output_type": "stream",
     "text": [
      "\u001b[92m Client2 Test =>                   \tAcc: 74.000 \tLoss: 0.6420\u001b[00m\n"
     ]
    },
    {
     "name": "stdout",
     "output_type": "stream",
     "text": [
      "\u001b[91m Client1 Train => Local Epoch: 0 \tAcc: 75.713 \tLoss: 0.6630\u001b[00m\n"
     ]
    },
    {
     "name": "stdout",
     "output_type": "stream",
     "text": [
      "\u001b[92m Client1 Test =>                   \tAcc: 78.000 \tLoss: 0.5435\u001b[00m\n"
     ]
    },
    {
     "name": "stdout",
     "output_type": "stream",
     "text": [
      "\u001b[91m Client3 Train => Local Epoch: 0 \tAcc: 76.787 \tLoss: 0.5908\u001b[00m\n"
     ]
    },
    {
     "name": "stdout",
     "output_type": "stream",
     "text": [
      "\u001b[92m Client3 Test =>                   \tAcc: 78.000 \tLoss: 0.6423\u001b[00m\n"
     ]
    },
    {
     "name": "stdout",
     "output_type": "stream",
     "text": [
      "\u001b[91m Client0 Train => Local Epoch: 0 \tAcc: 77.305 \tLoss: 0.5828\u001b[00m\n"
     ]
    },
    {
     "name": "stdout",
     "output_type": "stream",
     "text": [
      "\u001b[92m Client0 Test =>                   \tAcc: 74.000 \tLoss: 0.6979\u001b[00m\n",
      "====================== SERVER V1==========================\n",
      " Train: Round   8, Avg Accuracy 76.932 | Avg Loss 0.595\n",
      " Test: Round   8, Avg Accuracy 76.200 | Avg Loss 0.638\n",
      "==========================================================\n",
      "------------------------------------------------------------\n",
      "------ Fed Server: Federation process at Client-Side -------\n",
      "------------------------------------------------------------\n"
     ]
    },
    {
     "name": "stdout",
     "output_type": "stream",
     "text": [
      "\u001b[91m Client4 Train => Local Epoch: 0 \tAcc: 78.916 \tLoss: 0.5833\u001b[00m\n"
     ]
    },
    {
     "name": "stdout",
     "output_type": "stream",
     "text": [
      "\u001b[92m Client4 Test =>                   \tAcc: 77.000 \tLoss: 0.6613\u001b[00m\n"
     ]
    },
    {
     "name": "stdout",
     "output_type": "stream",
     "text": [
      "\u001b[91m Client1 Train => Local Epoch: 0 \tAcc: 79.805 \tLoss: 0.5265\u001b[00m\n"
     ]
    },
    {
     "name": "stdout",
     "output_type": "stream",
     "text": [
      "\u001b[92m Client1 Test =>                   \tAcc: 79.500 \tLoss: 0.5475\u001b[00m\n"
     ]
    },
    {
     "name": "stdout",
     "output_type": "stream",
     "text": [
      "\u001b[91m Client2 Train => Local Epoch: 0 \tAcc: 77.256 \tLoss: 0.5963\u001b[00m\n"
     ]
    },
    {
     "name": "stdout",
     "output_type": "stream",
     "text": [
      "\u001b[92m Client2 Test =>                   \tAcc: 75.000 \tLoss: 0.6262\u001b[00m\n"
     ]
    },
    {
     "name": "stdout",
     "output_type": "stream",
     "text": [
      "\u001b[91m Client3 Train => Local Epoch: 0 \tAcc: 78.428 \tLoss: 0.5552\u001b[00m\n"
     ]
    },
    {
     "name": "stdout",
     "output_type": "stream",
     "text": [
      "\u001b[92m Client3 Test =>                   \tAcc: 72.500 \tLoss: 0.6394\u001b[00m\n"
     ]
    },
    {
     "name": "stdout",
     "output_type": "stream",
     "text": [
      "\u001b[91m Client0 Train => Local Epoch: 0 \tAcc: 77.725 \tLoss: 0.6073\u001b[00m\n"
     ]
    },
    {
     "name": "stdout",
     "output_type": "stream",
     "text": [
      "\u001b[92m Client0 Test =>                   \tAcc: 77.500 \tLoss: 0.6400\u001b[00m\n",
      "====================== SERVER V1==========================\n",
      " Train: Round   9, Avg Accuracy 78.426 | Avg Loss 0.574\n",
      " Test: Round   9, Avg Accuracy 76.300 | Avg Loss 0.623\n",
      "==========================================================\n",
      "------------------------------------------------------------\n",
      "------ Fed Server: Federation process at Client-Side -------\n",
      "------------------------------------------------------------\n"
     ]
    }
   ],
   "source": [
    "#------------ Training And Testing -----------------\n",
    "net_glob_client.train()\n",
    "#copy weights\n",
    "w_glob_client = net_glob_client.state_dict()\n",
    "\n",
    "# Federation takes place after certain local epochs in train() client-side\n",
    "# this epoch is global epoch, also known as rounds\n",
    "for iter in range(epochs):\n",
    "    m = max(int(frac * num_users), 1)\n",
    "    idxs_users = np.random.choice(range(num_users), m, replace = False)\n",
    "    w_locals_client = []\n",
    "\n",
    "    for idx in idxs_users:\n",
    "        local = Client(net_glob_client, idx, lr, device, dataset_train = dataset_train, dataset_test = dataset_test, idxs = dict_users[idx], idxs_test = dict_users_test[idx])\n",
    "        # Training ------------------\n",
    "        w_client = local.train(net = copy.deepcopy(net_glob_client).to(device))\n",
    "        w_locals_client.append(copy.deepcopy(w_client))\n",
    "\n",
    "        # Testing -------------------\n",
    "        local.evaluate(net = copy.deepcopy(net_glob_client).to(device), ell= iter)\n",
    "\n",
    "\n",
    "    # Ater serving all clients for its local epochs------------\n",
    "    # Federation process at Client-Side------------------------\n",
    "    print(\"------------------------------------------------------------\")\n",
    "    print(\"------ Fed Server: Federation process at Client-Side -------\")\n",
    "    print(\"------------------------------------------------------------\")\n",
    "    w_glob_client = FedAvg(w_locals_client)\n",
    "\n",
    "    # Update client-side global model\n",
    "    net_glob_client.load_state_dict(w_glob_client)"
   ]
  },
  {
   "cell_type": "code",
   "execution_count": 17,
   "id": "4feafc36",
   "metadata": {
    "execution": {
     "iopub.execute_input": "2024-04-25T17:29:10.387453Z",
     "iopub.status.busy": "2024-04-25T17:29:10.387110Z",
     "iopub.status.idle": "2024-04-25T17:29:10.392060Z",
     "shell.execute_reply": "2024-04-25T17:29:10.391249Z"
    },
    "id": "yufYYiqlwA8-",
    "papermill": {
     "duration": 0.018327,
     "end_time": "2024-04-25T17:29:10.393771",
     "exception": false,
     "start_time": "2024-04-25T17:29:10.375444",
     "status": "completed"
    },
    "tags": []
   },
   "outputs": [
    {
     "name": "stdout",
     "output_type": "stream",
     "text": [
      "Training and Evaluation completed!\n"
     ]
    }
   ],
   "source": [
    "#===================================================================================\n",
    "\n",
    "print(\"Training and Evaluation completed!\")\n",
    "\n",
    "#==============================================================================="
   ]
  },
  {
   "cell_type": "code",
   "execution_count": 18,
   "id": "d0b798a3",
   "metadata": {
    "execution": {
     "iopub.execute_input": "2024-04-25T17:29:10.415060Z",
     "iopub.status.busy": "2024-04-25T17:29:10.414788Z",
     "iopub.status.idle": "2024-04-25T17:29:15.330098Z",
     "shell.execute_reply": "2024-04-25T17:29:15.328925Z"
    },
    "papermill": {
     "duration": 4.92832,
     "end_time": "2024-04-25T17:29:15.332112",
     "exception": false,
     "start_time": "2024-04-25T17:29:10.403792",
     "status": "completed"
    },
    "tags": []
   },
   "outputs": [
    {
     "name": "stdout",
     "output_type": "stream",
     "text": [
      "Collecting openpyxl\r\n"
     ]
    },
    {
     "name": "stdout",
     "output_type": "stream",
     "text": [
      "  Downloading openpyxl-3.1.2-py2.py3-none-any.whl (249 kB)\r\n",
      "\u001b[?25l     \u001b[90m━━━━━━━━━━━━━━━━━━━━━━━━━━━━━━━━━━━━━━━━\u001b[0m \u001b[32m0.0/250.0 kB\u001b[0m \u001b[31m?\u001b[0m eta \u001b[36m-:--:--\u001b[0m\r",
      "\u001b[2K     \u001b[91m━━━━\u001b[0m\u001b[91m╸\u001b[0m\u001b[90m━━━━━━━━━━━━━━━━━━━━━━━━━━━━━━━━━━━\u001b[0m \u001b[32m30.7/250.0 kB\u001b[0m \u001b[31m1.7 MB/s\u001b[0m eta \u001b[36m0:00:01\u001b[0m"
     ]
    },
    {
     "name": "stdout",
     "output_type": "stream",
     "text": [
      "\r",
      "\u001b[2K     \u001b[91m━━━━━━━━━━━━━━\u001b[0m\u001b[91m╸\u001b[0m\u001b[90m━━━━━━━━━━━━━━━━━━━━━━━━━\u001b[0m \u001b[32m92.2/250.0 kB\u001b[0m \u001b[31m1.5 MB/s\u001b[0m eta \u001b[36m0:00:01\u001b[0m"
     ]
    },
    {
     "name": "stdout",
     "output_type": "stream",
     "text": [
      "\r",
      "\u001b[2K     \u001b[91m━━━━━━━━━━━━━━━━━━━━━━━━━━━━━━━━━━━━━━\u001b[0m\u001b[90m╺\u001b[0m \u001b[32m245.8/250.0 kB\u001b[0m \u001b[31m2.5 MB/s\u001b[0m eta \u001b[36m0:00:01\u001b[0m\r",
      "\u001b[2K     \u001b[90m━━━━━━━━━━━━━━━━━━━━━━━━━━━━━━━━━━━━━━━\u001b[0m \u001b[32m250.0/250.0 kB\u001b[0m \u001b[31m2.0 MB/s\u001b[0m eta \u001b[36m0:00:00\u001b[0m\r\n",
      "\u001b[?25h"
     ]
    },
    {
     "name": "stdout",
     "output_type": "stream",
     "text": [
      "Collecting et-xmlfile\r\n"
     ]
    },
    {
     "name": "stdout",
     "output_type": "stream",
     "text": [
      "  Downloading et_xmlfile-1.1.0-py3-none-any.whl (4.7 kB)\r\n"
     ]
    },
    {
     "name": "stdout",
     "output_type": "stream",
     "text": [
      "Installing collected packages: et-xmlfile, openpyxl\r\n"
     ]
    },
    {
     "name": "stdout",
     "output_type": "stream",
     "text": [
      "Successfully installed et-xmlfile-1.1.0 openpyxl-3.1.2\r\n",
      "\u001b[33mWARNING: Running pip as the 'root' user can result in broken permissions and conflicting behaviour with the system package manager. It is recommended to use a virtual environment instead: https://pip.pypa.io/warnings/venv\u001b[0m\u001b[33m\r\n",
      "\u001b[0m"
     ]
    },
    {
     "name": "stdout",
     "output_type": "stream",
     "text": [
      "\r\n",
      "\u001b[1m[\u001b[0m\u001b[34;49mnotice\u001b[0m\u001b[1;39;49m]\u001b[0m\u001b[39;49m A new release of pip is available: \u001b[0m\u001b[31;49m23.0.1\u001b[0m\u001b[39;49m -> \u001b[0m\u001b[32;49m24.0\u001b[0m\r\n",
      "\u001b[1m[\u001b[0m\u001b[34;49mnotice\u001b[0m\u001b[1;39;49m]\u001b[0m\u001b[39;49m To update, run: \u001b[0m\u001b[32;49mpip install --upgrade pip\u001b[0m\r\n"
     ]
    }
   ],
   "source": [
    "!pip install openpyxl\n"
   ]
  },
  {
   "cell_type": "code",
   "execution_count": 19,
   "id": "684103ee",
   "metadata": {
    "execution": {
     "iopub.execute_input": "2024-04-25T17:29:15.383488Z",
     "iopub.status.busy": "2024-04-25T17:29:15.383135Z",
     "iopub.status.idle": "2024-04-25T17:29:15.532361Z",
     "shell.execute_reply": "2024-04-25T17:29:15.531594Z"
    },
    "id": "AnJJBA5dwDan",
    "papermill": {
     "duration": 0.191249,
     "end_time": "2024-04-25T17:29:15.534270",
     "exception": false,
     "start_time": "2024-04-25T17:29:15.343021",
     "status": "completed"
    },
    "tags": []
   },
   "outputs": [],
   "source": [
    "# Save output data to .excel file (we use for comparision plots)\n",
    "\n",
    "round_process = [i for i in range(1, len(acc_train_collect)+1)]\n",
    "df = DataFrame({'round': round_process,'acc_train':acc_train_collect, 'acc_test':acc_test_collect})\n",
    "file_name = program+\".xlsx\"\n",
    "df.to_excel(file_name, sheet_name= \"v1_test\", index = False)\n",
    "\n",
    "#=============================================================================\n",
    "#                         Program Completed\n",
    "#============================================================================="
   ]
  },
  {
   "cell_type": "code",
   "execution_count": null,
   "id": "d30dd576",
   "metadata": {
    "papermill": {
     "duration": 0.010366,
     "end_time": "2024-04-25T17:29:15.555002",
     "exception": false,
     "start_time": "2024-04-25T17:29:15.544636",
     "status": "completed"
    },
    "tags": []
   },
   "outputs": [],
   "source": []
  }
 ],
 "metadata": {
  "colab": {
   "authorship_tag": "ABX9TyPAgkRZWoQ6n6DVbeKLj5CB",
   "provenance": []
  },
  "kaggle": {
   "accelerator": "tpu1vmV38",
   "dataSources": [
    {
     "datasetId": 54339,
     "sourceId": 104884,
     "sourceType": "datasetVersion"
    }
   ],
   "dockerImageVersionId": 30685,
   "isGpuEnabled": false,
   "isInternetEnabled": true,
   "language": "python",
   "sourceType": "notebook"
  },
  "kernelspec": {
   "display_name": "Python 3",
   "language": "python",
   "name": "python3"
  },
  "language_info": {
   "codemirror_mode": {
    "name": "ipython",
    "version": 3
   },
   "file_extension": ".py",
   "mimetype": "text/x-python",
   "name": "python",
   "nbconvert_exporter": "python",
   "pygments_lexer": "ipython3",
   "version": "3.10.14"
  },
  "papermill": {
   "default_parameters": {},
   "duration": 1191.418663,
   "end_time": "2024-04-25T17:29:16.988238",
   "environment_variables": {},
   "exception": null,
   "input_path": "__notebook__.ipynb",
   "output_path": "__notebook__.ipynb",
   "parameters": {},
   "start_time": "2024-04-25T17:09:25.569575",
   "version": "2.5.0"
  }
 },
 "nbformat": 4,
 "nbformat_minor": 5
}
